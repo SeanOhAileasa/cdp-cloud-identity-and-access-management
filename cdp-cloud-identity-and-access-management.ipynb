{
 "cells": [
  {
   "cell_type": "markdown",
   "id": "d4ee9e4b",
   "metadata": {},
   "source": [
    "***\n",
    "< [Home](https://github.com/SeanOhAileasa) | [README](https://github.com/SeanOhAileasa/cdp-cloud-identity-and-access-management/blob/main/README.md) >\n",
    "\n",
    "## CompTIA Cloud+ - Course Material 2022\n",
    "###### Topic: ``Cloud Identity & Access Management``\n",
    "***"
   ]
  },
  {
   "cell_type": "markdown",
   "id": "e7228f57",
   "metadata": {},
   "source": [
    "<a id=\"top\"></a>\n",
    "***\n",
    "## Table of Contents\n",
    "***"
   ]
  },
  {
   "cell_type": "markdown",
   "id": "c2bb5e7b",
   "metadata": {},
   "source": [
    "### [Cloud Identity & Access Management](#aa) <br/><br/>\n",
    "<hr width=50%;>"
   ]
  },
  {
   "cell_type": "markdown",
   "id": "ede0ca17",
   "metadata": {},
   "source": [
    "### [Cloud Identification and Authorization](#A) <br/><br/>\n",
    "<hr width=50%;>"
   ]
  },
  {
   "cell_type": "markdown",
   "id": "b8355dff",
   "metadata": {},
   "source": [
    "### [Cloud Directory Services](#B) <br/><br/>\n",
    "<hr width=50%;>"
   ]
  },
  {
   "cell_type": "markdown",
   "id": "7905c9c6",
   "metadata": {},
   "source": [
    "### [Identity Federation](#C) <br/><br/>\n",
    "<hr width=50%;>"
   ]
  },
  {
   "cell_type": "markdown",
   "id": "51e6a43d",
   "metadata": {},
   "source": [
    "### [Certificate Management](#D) <br/><br/>\n",
    "<hr width=50%;>"
   ]
  },
  {
   "cell_type": "markdown",
   "id": "775955ca",
   "metadata": {},
   "source": [
    "### [Multi-factor Authentication](#E) <br/><br/>\n",
    "<hr width=50%;>"
   ]
  },
  {
   "cell_type": "markdown",
   "id": "e47ef171",
   "metadata": {},
   "source": [
    "### [Single Sign-on](#F) <br/><br/>\n",
    "<hr width=50%;>"
   ]
  },
  {
   "cell_type": "markdown",
   "id": "55276e85",
   "metadata": {},
   "source": [
    "### [Public Key Infrastructure](#G) <br/><br/>\n",
    "<hr width=50%;>"
   ]
  },
  {
   "cell_type": "markdown",
   "id": "cc200b05",
   "metadata": {},
   "source": [
    "### [Cloud Secret and Key Management](#H) <br/><br/>\n",
    "<hr width=50%;>"
   ]
  },
  {
   "cell_type": "markdown",
   "id": "0e32fc2f",
   "metadata": {},
   "source": [
    "### [Incident Response Preparation](#I) <br/><br/>\n",
    "<hr width=50%;>"
   ]
  },
  {
   "cell_type": "markdown",
   "id": "531f7bf1",
   "metadata": {},
   "source": [
    "### [Incident Response Procedures](#J) <br/><br/>\n",
    "<hr width=50%;>"
   ]
  },
  {
   "cell_type": "markdown",
   "id": "2ff8aa97",
   "metadata": {},
   "source": [
    "### [Course Summary](#K) <br/><br/>\n",
    "<hr width=50%;>"
   ]
  },
  {
   "cell_type": "markdown",
   "id": "bf2b95e2",
   "metadata": {},
   "source": [
    "***\n",
    "## END"
   ]
  },
  {
   "cell_type": "markdown",
   "id": "34aa6eb5",
   "metadata": {},
   "source": [
    "< [Table of Contents](#top) | [References](#references) >\n",
    "<a id=\"aa\"></a>\n",
    "***\n",
    "### Cloud Identity & Access Management\n",
    "***"
   ]
  },
  {
   "cell_type": "markdown",
   "id": "6fe37935",
   "metadata": {},
   "source": []
  },
  {
   "cell_type": "markdown",
   "id": "626b3cf3",
   "metadata": {},
   "source": [
    "< [Table of Contents](#top) | [References](#references) >\n",
    "<a id=\"A\"></a>\n",
    "***\n",
    "### Cloud Identification and Authorization\n",
    "*** "
   ]
  },
  {
   "cell_type": "markdown",
   "id": "2bc1a315",
   "metadata": {},
   "source": []
  },
  {
   "cell_type": "markdown",
   "id": "38e038b3",
   "metadata": {},
   "source": [
    "< [Table of Contents](#top) | [References](#references) >\n",
    "<a id=\"B\"></a>\n",
    "***\n",
    "### Cloud Directory Services\n",
    "*** "
   ]
  },
  {
   "cell_type": "markdown",
   "id": "d153b21b",
   "metadata": {},
   "source": []
  },
  {
   "cell_type": "markdown",
   "id": "de725b7d",
   "metadata": {},
   "source": [
    "< [Table of Contents](#top) | [References](#references) >\n",
    "<a id=\"C\"></a>\n",
    "***\n",
    "### Identity Federation\n",
    "*** "
   ]
  },
  {
   "cell_type": "markdown",
   "id": "5902f71b",
   "metadata": {},
   "source": []
  },
  {
   "cell_type": "markdown",
   "id": "25285a1c",
   "metadata": {},
   "source": [
    "< [Table of Contents](#top) | [References](#references) >\n",
    "<a id=\"D\"></a>\n",
    "***\n",
    "### Certificate Management\n",
    "*** "
   ]
  },
  {
   "cell_type": "markdown",
   "id": "c57e10b6",
   "metadata": {},
   "source": []
  },
  {
   "cell_type": "markdown",
   "id": "7b75d64c",
   "metadata": {},
   "source": [
    "< [Table of Contents](#top) | [References](#references) >\n",
    "<a id=\"E\"></a>\n",
    "***\n",
    "### Multi-factor Authentication\n",
    "*** "
   ]
  },
  {
   "cell_type": "markdown",
   "id": "69e64661",
   "metadata": {},
   "source": []
  },
  {
   "cell_type": "markdown",
   "id": "bd388e8a",
   "metadata": {},
   "source": [
    "< [Table of Contents](#top) | [References](#references) >\n",
    "<a id=\"F\"></a>\n",
    "***\n",
    "### Single Sign-on\n",
    "*** "
   ]
  },
  {
   "cell_type": "markdown",
   "id": "4dd69273",
   "metadata": {},
   "source": []
  },
  {
   "cell_type": "markdown",
   "id": "a0578916",
   "metadata": {},
   "source": [
    "< [Table of Contents](#top) | [References](#references) >\n",
    "<a id=\"G\"></a>\n",
    "***\n",
    "### Public Key Infrastructure\n",
    "*** "
   ]
  },
  {
   "cell_type": "markdown",
   "id": "4f1c2539",
   "metadata": {},
   "source": []
  },
  {
   "cell_type": "markdown",
   "id": "ed2ef7a2",
   "metadata": {},
   "source": [
    "< [Table of Contents](#top) | [References](#references) >\n",
    "<a id=\"H\"></a>\n",
    "***\n",
    "### Cloud Secret and Key Management\n",
    "*** "
   ]
  },
  {
   "cell_type": "markdown",
   "id": "55551eb8",
   "metadata": {},
   "source": []
  },
  {
   "cell_type": "markdown",
   "id": "033dc84e",
   "metadata": {},
   "source": [
    "< [Table of Contents](#top) | [References](#references) >\n",
    "<a id=\"I\"></a>\n",
    "***\n",
    "### Incident Response Preparation\n",
    "*** "
   ]
  },
  {
   "cell_type": "markdown",
   "id": "12efe9cf",
   "metadata": {},
   "source": []
  },
  {
   "cell_type": "markdown",
   "id": "d78e3730",
   "metadata": {},
   "source": [
    "< [Table of Contents](#top) | [References](#references) >\n",
    "<a id=\"J\"></a>\n",
    "***\n",
    "### Incident Response Procedures\n",
    "*** "
   ]
  },
  {
   "cell_type": "markdown",
   "id": "c0ef931a",
   "metadata": {},
   "source": []
  },
  {
   "cell_type": "markdown",
   "id": "173e78b5",
   "metadata": {},
   "source": [
    "< [Table of Contents](#top) | [References](#references) >\n",
    "<a id=\"K\"></a>\n",
    "***\n",
    "### Course Summary\n",
    "*** "
   ]
  },
  {
   "cell_type": "markdown",
   "id": "03c7753b",
   "metadata": {},
   "source": []
  },
  {
   "cell_type": "markdown",
   "id": "2cc20932",
   "metadata": {},
   "source": [
    "***\n",
    "## END"
   ]
  },
  {
   "cell_type": "markdown",
   "id": "e0e42d51",
   "metadata": {},
   "source": [
    "< [Table of Contents](#top) >\n",
    "<a id=\"references\"></a>\n",
    "***\n",
    "## References\n",
    "***"
   ]
  },
  {
   "cell_type": "markdown",
   "id": "757bf6de",
   "metadata": {},
   "source": [
    "&nbsp;&nbsp;&nbsp;&nbsp;&nbsp;&nbsp;&nbsp;&nbsp;&nbsp;skillsoft, \"Cloud Identity & Access Management,\" [skillsoft.com](https://web.archive.org/web/20220403100053/https://www.skillsoft.com/), n.d.."
   ]
  },
  {
   "cell_type": "markdown",
   "id": "b33c372a",
   "metadata": {},
   "source": [
    "***\n",
    "## END"
   ]
  },
  {
   "cell_type": "markdown",
   "id": "e5961b4d",
   "metadata": {},
   "source": [
    "< [Table of Contents](#top) | [References](#references) >\n",
    "<a id=\"appendix\"></a>\n",
    "***\n",
    "## Appendix\n",
    "***"
   ]
  },
  {
   "cell_type": "markdown",
   "id": "00d82a82",
   "metadata": {},
   "source": [
    "***\n",
    "## END"
   ]
  },
  {
   "cell_type": "code",
   "execution_count": 1,
   "id": "706756a2",
   "metadata": {},
   "outputs": [
    {
     "name": "stderr",
     "output_type": "stream",
     "text": [
      "C:\\Users\\SeanOhAileasa\\AppData\\Local\\Temp\\ipykernel_23016\\1322614208.py:1: DeprecationWarning: Importing display from IPython.core.display is deprecated since IPython 7.14, please import from IPython display\n",
      "  from IPython.core.display import display,HTML\n"
     ]
    },
    {
     "data": {
      "text/html": [
       "<style>.container { width:100% !important; }</style>"
      ],
      "text/plain": [
       "<IPython.core.display.HTML object>"
      ]
     },
     "metadata": {},
     "output_type": "display_data"
    }
   ],
   "source": [
    "from IPython.core.display import display,HTML\n",
    "display(HTML(\"<style>.container { width:100% !important; }</style>\"))"
   ]
  },
  {
   "cell_type": "markdown",
   "id": "899c1783",
   "metadata": {},
   "source": [
    "# END JUPYTER NOTEBOOK"
   ]
  }
 ],
 "metadata": {
  "kernelspec": {
   "display_name": "Python 3 (ipykernel)",
   "language": "python",
   "name": "python3"
  },
  "language_info": {
   "codemirror_mode": {
    "name": "ipython",
    "version": 3
   },
   "file_extension": ".py",
   "mimetype": "text/x-python",
   "name": "python",
   "nbconvert_exporter": "python",
   "pygments_lexer": "ipython3",
   "version": "3.9.12"
  }
 },
 "nbformat": 4,
 "nbformat_minor": 5
}
